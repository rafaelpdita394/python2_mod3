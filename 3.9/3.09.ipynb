{
 "cells": [
  {
   "cell_type": "markdown",
   "metadata": {},
   "source": [
    "> Projeto Desenvolve <br>\n",
    "Programação Intermediária com Python <br>\n",
    "Profa. Camila Laranjeira (mila@projetodesenvolve.com.br) <br>\n",
    "\n",
    "# 3.9 - Visualização de Dados"
   ]
  },
  {
   "cell_type": "markdown",
   "metadata": {
    "vscode": {
     "languageId": "plaintext"
    }
   },
   "source": [
    "## Exercícios\n",
    "Vamos trabalhar com as mesmas bases de dados do exercício de Pandas. Aqui estão os links caso você queira baixar novamente, mas recomendo trabalhar com o `wc_formatado.csv` que exportamos na questão Q2 do exercício anterior.\n",
    "\n",
    "* https://raw.githubusercontent.com/camilalaranjeira/python-intermediario/main/fifa-wc/matches_1930_2022.csv\n",
    "* https://raw.githubusercontent.com/camilalaranjeira/python-intermediario/main/fifa-wc/matches_1991_2023.csv\n",
    "\n",
    "Para relembrar, essas são as colunas do dataframe:\n",
    "```\n",
    "Data columns (total 21 columns):\n",
    " #   Column             Non-Null Count  Dtype         \n",
    "---  ------             --------------  -----         \n",
    " 0   time_1             1312 non-null   string        \n",
    " 1   time_2             1312 non-null   string        \n",
    " 2   gols_1             1312 non-null   int64         \n",
    " 3   gols_2             1312 non-null   int64         \n",
    " 4   data               1312 non-null   datetime64[ns]\n",
    " 5   ano                1312 non-null   int64         \n",
    " 6   país_sede          1312 non-null   string        \n",
    " 7   comparecimento     1312 non-null   int64         \n",
    " 8   resultado          1312 non-null   string        \n",
    " 9   rodada             1312 non-null   category      \n",
    " 10  gols_1_detalhes    970 non-null    string        \n",
    " 11  gols_2_detalhes    771 non-null    string        \n",
    " 12  gols_1_contra      57 non-null     string        \n",
    " 13  gols_2_contra      30 non-null     string        \n",
    " 14  gols_1_penalti     170 non-null    string        \n",
    " 15  gols_2_penalti     119 non-null    string        \n",
    " 16  cartao_vermelho_1  59 non-null     string        \n",
    " 17  cartao_vermelho_2  65 non-null     string        \n",
    " 18  cartao_amarelo_1   834 non-null    string        \n",
    " 19  cartao_amarelo_2   857 non-null    string        \n",
    " 20  copa               1312 non-null   string \n",
    "```"
   ]
  },
  {
   "cell_type": "markdown",
   "metadata": {},
   "source": [
    "#### Q1.\n",
    "Realize todos os imports necessários para executar as três bibliotecas de visualização que conhecemos:\n",
    "* Matplotlib (lembre-se do comando mágico)\n",
    "* Seaborn\n",
    "* Plotly\n",
    "\n",
    "Para cada uma delas, altere o tema padrão de visualização. "
   ]
  },
  {
   "cell_type": "code",
   "execution_count": null,
   "metadata": {
    "vscode": {
     "languageId": "plaintext"
    }
   },
   "outputs": [],
   "source": [
    "# Bibliotecas básicas\n",
    "import pandas as pd\n",
    "import numpy as np\n",
    "\n",
    "# Visualização\n",
    "import matplotlib.pyplot as plt\n",
    "import seaborn as sns\n",
    "import plotly.express as px\n",
    "import plotly.graph_objects as go\n",
    "\n",
    "# Comando mágico do matplotlib para notebook\n",
    "%matplotlib inline\n",
    "\n",
    "# Temas\n",
    "plt.style.use('seaborn-darkgrid')  # Matplotlib\n",
    "sns.set_theme(style=\"darkgrid\")     # Seaborn\n",
    "# Plotly não precisa de tema, mas podemos escolher template a cada gráfico\n",
    "\n",
    "# Carregando o CSV\n",
    "wc = pd.read_csv(\"wc_formatado.csv\", parse_dates=['data'])\n",
    "\n",
    "# Visualizar primeiras linhas\n",
    "wc.head()\n"
   ]
  },
  {
   "cell_type": "markdown",
   "metadata": {
    "vscode": {
     "languageId": "plaintext"
    }
   },
   "source": [
    "#### Q2.\n",
    "Sobre os dados de copa do mundo, qual a distribuição de público presente nos jogos? Isso pode ser respondido com um histograma com os dados da coluna `comparecimento`.  \n",
    "\n",
    "Lembre-se que alguns jogos estavam com público 0 incorretamente, que tal remover essas ocorrências para não atrapalhar sua visualzação?\n",
    "\n",
    "Você deve implementar essa visualização nas três bibliotecas que vimos:\n",
    "* Matplotlib\n",
    "* Seaborn\n",
    "* Plotly\n",
    "\n",
    "Garanta que o gráfico tenha pelo menos os atributos de título e rótulos de dimensão."
   ]
  },
  {
   "cell_type": "code",
   "execution_count": null,
   "metadata": {
    "vscode": {
     "languageId": "plaintext"
    }
   },
   "outputs": [],
   "source": [
    "#### Solução com matplotlib\n",
    "\n",
    "plt.figure(figsize=(10,6))\n",
    "plt.hist(wc_publico['comparecimento'], bins=30, color='skyblue', edgecolor='black')\n",
    "plt.title('Distribuição do Público em Jogos da Copa do Mundo')\n",
    "plt.xlabel('Público')\n",
    "plt.ylabel('Número de Jogos')\n",
    "plt.show()\n"
   ]
  },
  {
   "cell_type": "code",
   "execution_count": null,
   "metadata": {
    "vscode": {
     "languageId": "plaintext"
    }
   },
   "outputs": [],
   "source": [
    "#### solução com seaborn\n",
    "\n",
    "plt.figure(figsize=(10,6))\n",
    "sns.histplot(wc_publico['comparecimento'], bins=30, kde=True, color='orange')\n",
    "plt.title('Distribuição do Público em Jogos da Copa do Mundo')\n",
    "plt.xlabel('Público')\n",
    "plt.ylabel('Número de Jogos')\n",
    "plt.show()\n",
    "    "
   ]
  },
  {
   "cell_type": "code",
   "execution_count": null,
   "metadata": {
    "vscode": {
     "languageId": "plaintext"
    }
   },
   "outputs": [],
   "source": [
    "#### solução com plotly\n",
    "\n",
    "fig = px.histogram(wc_publico, x='comparecimento', nbins=30, title='Distribuição do Público em Jogos da Copa do Mundo')\n",
    "fig.update_layout(xaxis_title='Público', yaxis_title='Número de Jogos', template='plotly_dark')\n",
    "fig.show()\n"
   ]
  },
  {
   "cell_type": "markdown",
   "metadata": {},
   "source": [
    "#### Q3.\n",
    "\n",
    "Apresente um gráfico de dispersão (scatter) dos atributos `gols_1` e `gols_2`. Isso representa a relação entre gols feitos e gols tomados por jogo. Há alguma relação interessante entre esses atributos?\n",
    "\n",
    "Para facilitar a visualização dos dados (já que tem muitos placares repetidos), aplique uma leve distorção aos dados para que cada ponto esteja deslocado aleatoriamente de seu valor original. Código apresentado a seguir\n",
    "```python\n",
    "gols = wc[['gols_1', 'gols_2']] * np.random.random((len(wc),2))\n",
    "```\n",
    "\n",
    "Você deve implementar essa visualização nas três bibliotecas que vimos:\n",
    "* Matplotlib\n",
    "* Seaborn\n",
    "* Plotly\n",
    "\n",
    "Garanta que o gráfico tenha pelo menos os atributos de título e rótulos de dimensão."
   ]
  },
  {
   "cell_type": "code",
   "execution_count": null,
   "metadata": {
    "vscode": {
     "languageId": "plaintext"
    }
   },
   "outputs": [],
   "source": [
    "#### solução com matplotlib\n",
    "\n",
    "plt.figure(figsize=(8,6))\n",
    "plt.scatter(gols['gols_1'], gols['gols_2'], alpha=0.5, color='green')\n",
    "plt.title('Dispersão de Gols: Time 1 vs Time 2')\n",
    "plt.xlabel('Gols Time 1')\n",
    "plt.ylabel('Gols Time 2')\n",
    "plt.show()\n",
    "\n"
   ]
  },
  {
   "cell_type": "code",
   "execution_count": null,
   "metadata": {
    "vscode": {
     "languageId": "plaintext"
    }
   },
   "outputs": [],
   "source": [
    "#### solução com seaborn\n",
    "\n",
    "plt.figure(figsize=(8,6))\n",
    "sns.scatterplot(x=gols['gols_1'], y=gols['gols_2'], alpha=0.5)\n",
    "plt.title('Dispersão de Gols: Time 1 vs Time 2')\n",
    "plt.xlabel('Gols Time 1')\n",
    "plt.ylabel('Gols Time 2')\n",
    "plt.show()\n",
    "\n"
   ]
  },
  {
   "cell_type": "code",
   "execution_count": null,
   "metadata": {
    "vscode": {
     "languageId": "plaintext"
    }
   },
   "outputs": [],
   "source": [
    "#### solução com plotly\n",
    "\n",
    "fig = px.scatter(gols, x='gols_1', y='gols_2', title='Dispersão de Gols: Time 1 vs Time 2', opacity=0.6)\n",
    "fig.update_layout(xaxis_title='Gols Time 1', yaxis_title='Gols Time 2', template='plotly_dark')\n",
    "fig.show()\n"
   ]
  },
  {
   "cell_type": "markdown",
   "metadata": {},
   "source": [
    "#### Q4.\n",
    "\n",
    "Apresente um gráfico de barras com o top 10 países que mais participaram de copas do mundo, onde no eixo x devem estar o nome dos países e no eixo y a contagem de participações. Você deve separar a contagem de participações em copas femininas e masculinas, empilhando as barras de cada informação.\n",
    "\n",
    "No exemplo de barras empilhadas da galeria do matplotlib, imagine que a parte azul são as participações do país em copas masculinas, e em laranja as participações femininas:\n",
    "* https://matplotlib.org/stable/gallery/lines_bars_and_markers/bar_stacked.html\n",
    "\n",
    "Você deve implementar essa visualização nas três bibliotecas que vimos:\n",
    "* Matplotlib\n",
    "* Seaborn\n",
    "* Plotly\n",
    "\n",
    "Garanta que o gráfico tenha pelo menos os atributos:\n",
    "* título\n",
    "* rótulos de dimensão.\n",
    "* legenda"
   ]
  },
  {
   "cell_type": "code",
   "execution_count": null,
   "metadata": {
    "vscode": {
     "languageId": "plaintext"
    }
   },
   "outputs": [],
   "source": [
    "#### solução com matplotlib\n",
    "\n",
    "plt.figure(figsize=(12,6))\n",
    "plt.bar(top_countries, masc_counts, label='Masculino')\n",
    "plt.bar(top_countries, fem_counts, bottom=masc_counts, label='Feminino')\n",
    "plt.title('Top 10 Países com Mais Participações em Copas')\n",
    "plt.xlabel('País')\n",
    "plt.ylabel('Número de Participações')\n",
    "plt.xticks(rotation=45)\n",
    "plt.legend()\n",
    "plt.show()\n"
   ]
  },
  {
   "cell_type": "code",
   "execution_count": null,
   "metadata": {
    "vscode": {
     "languageId": "plaintext"
    }
   },
   "outputs": [],
   "source": [
    "#### solução com seaborn\n",
    "\n",
    "df_plot = pd.DataFrame({'País': top_countries, 'Masculino': masc_counts, 'Feminino': fem_counts})\n",
    "df_plot = df_plot.melt(id_vars='País', var_name='Categoria', value_name='Participações')\n",
    "\n",
    "plt.figure(figsize=(12,6))\n",
    "sns.barplot(x='País', y='Participações', hue='Categoria', data=df_plot)\n",
    "plt.title('Top 10 Países com Mais Participações em Copas')\n",
    "plt.xlabel('País')\n",
    "plt.ylabel('Número de Participações')\n",
    "plt.xticks(rotation=45)\n",
    "plt.show()\n"
   ]
  },
  {
   "cell_type": "code",
   "execution_count": null,
   "metadata": {
    "vscode": {
     "languageId": "plaintext"
    }
   },
   "outputs": [],
   "source": [
    "#### solução com plotly\n",
    "\n",
    "fig = go.Figure()\n",
    "fig.add_trace(go.Bar(x=top_countries, y=masc_counts, name='Masculino'))\n",
    "fig.add_trace(go.Bar(x=top_countries, y=fem_counts, name='Feminino'))\n",
    "fig.update_layout(barmode='stack', title='Top 10 Países com Mais Participações em Copas',\n",
    "                  xaxis_title='País', yaxis_title='Número de Participações', template='plotly_dark')\n",
    "fig.show()\n"
   ]
  },
  {
   "cell_type": "markdown",
   "metadata": {},
   "source": [
    "#### Q5.\n",
    "\n",
    "Vamos fazer um compilado com as estatísticas históricas de copas do mundo!\n",
    "\n",
    "Com a biblioteca de sua preferência você deve criar 4 subplots organizados em um grid de 2 linhas e 2 colunas. Eles devem conter os seguintes gráficos:\n",
    "* Linha 1, coluna 1: Gráfico de barras com a quantidade de jogos que aconteceram por ano\n",
    "* Linha 1, coluna 2: Gráfico de área (referências a seguir) com o total de gols por ano, separando as informações de `gols_1` e `gols_2` para distinguir gols em casa e do time visitante.\n",
    "* Linha 2, coluna 1: Gráfico de área com o total de cartões por ano, separando as informações de cartões amarelos e cartões vermelhos, mas agregando cartões do time 1 ou time 2. Ou seja, uma área com `cartao_amarelo_1 + cartao_amarelo_2` e outra área com `cartao_vermelho_1 + cartao_vermelho_2`.\n",
    "* Linha 2, coluna 2: Gráfico de barras com o total de gols contra por ano, somando `gols_contra_1` e `gols_contra_2`.\n",
    "\n",
    "Referências sobre gráfico de área\n",
    "* Matplotlib: https://matplotlib.org/stable/gallery/lines_bars_and_markers/stackplot_demo.html#sphx-glr-gallery-lines-bars-and-markers-stackplot-demo-py\n",
    "* Pandas + Matplotlib: https://pandas.pydata.org/docs/reference/api/pandas.DataFrame.plot.area.html\n",
    "* Seaborn: https://seaborn.pydata.org/generated/seaborn.objects.Area.html\n",
    "* Plotly: https://plotly.com/python/filled-area-plots/"
   ]
  },
  {
   "cell_type": "code",
   "execution_count": null,
   "metadata": {
    "vscode": {
     "languageId": "plaintext"
    }
   },
   "outputs": [],
   "source": [
    "import matplotlib.pyplot as plt\n",
    "import seaborn as sns\n",
    "import pandas as pd\n",
    "import numpy as np\n",
    "\n",
    "# Configurar tema\n",
    "sns.set_theme(style=\"darkgrid\")\n",
    "\n",
    "# Garantir que colunas numéricas estejam corretas\n",
    "wc['cartao_amarelo_1'] = pd.to_numeric(wc['cartao_amarelo_1'], errors='coerce').fillna(0)\n",
    "wc['cartao_amarelo_2'] = pd.to_numeric(wc['cartao_amarelo_2'], errors='coerce').fillna(0)\n",
    "wc['cartao_vermelho_1'] = pd.to_numeric(wc['cartao_vermelho_1'], errors='coerce').fillna(0)\n",
    "wc['cartao_vermelho_2'] = pd.to_numeric(wc['cartao_vermelho_2'], errors='coerce').fillna(0)\n",
    "wc['gols_1_contra'] = pd.to_numeric(wc['gols_1_contra'], errors='coerce').fillna(0)\n",
    "wc['gols_2_contra'] = pd.to_numeric(wc['gols_2_contra'], errors='coerce').fillna(0)\n",
    "\n",
    "# Criar subplots\n",
    "fig, axs = plt.subplots(2, 2, figsize=(16,12))\n",
    "\n",
    "# -----------------------------\n",
    "# 1. Linha 1, coluna 1: quantidade de jogos por ano\n",
    "jogos_ano = wc.groupby('ano').size().reset_index(name='num_jogos')\n",
    "sns.barplot(x='ano', y='num_jogos', data=jogos_ano, ax=axs[0,0], color='skyblue')\n",
    "axs[0,0].set_title('Quantidade de Jogos por Ano')\n",
    "axs[0,0].set_xlabel('Ano')\n",
    "axs[0,0].set_ylabel('Número de Jogos')\n",
    "axs[0,0].tick_params(axis='x', rotation=45)\n",
    "\n",
    "# -----------------------------\n",
    "# 2. Linha 1, coluna 2: total de gols por ano (área)\n",
    "gols_ano = wc.groupby('ano')[['gols_1','gols_2']].sum().reset_index()\n",
    "axs[0,1].stackplot(gols_ano['ano'], gols_ano['gols_1'], gols_ano['gols_2'], labels=['Gols Time 1','Gols Time 2'], colors=['#1f77b4','#ff7f0e'])\n",
    "axs[0,1].set_title('Total de Gols por Ano')\n",
    "axs[0,1].set_xlabel('Ano')\n",
    "axs[0,1].set_ylabel('Gols')\n",
    "axs[0,1].legend()\n",
    "axs[0,1].tick_params(axis='x', rotation=45)\n",
    "\n",
    "# -----------------------------\n",
    "# 3. Linha 2, coluna 1: total de cartões por ano (área)\n",
    "cartoes_ano = wc.groupby('ano')[['cartao_amarelo_1','cartao_amarelo_2','cartao_vermelho_1','cartao_vermelho_2']].sum()\n",
    "cartoes_ano['amarelos'] = cartoes_ano['cartao_amarelo_1'] + cartoes_ano['cartao_amarelo_2']\n",
    "cartoes_ano['vermelhos'] = cartoes_ano['cartao_vermelho_1'] + cartoes_ano['cartao_vermelho_2']\n",
    "axs[1,0].stackplot(cartoes_ano.index, cartoes_ano['amarelos'], cartoes_ano['vermelhos'], labels=['Amarelos','Vermelhos'], colors=['#ffcc00','#ff0000'])\n",
    "axs[1,0].set_title('Total de Cartões por Ano')\n",
    "axs[1,0].set_xlabel('Ano')\n",
    "axs[1,0].set_ylabel('Cartões')\n",
    "axs[1,0].legend()\n",
    "axs[1,0].tick_params(axis='x', rotation=45)\n",
    "\n",
    "# -----------------------------\n",
    "# 4. Linha 2, coluna 2: total de gols contra por ano (barra)\n",
    "gols_contra_ano = wc.groupby('ano')[['gols_1_contra','gols_2_contra']].sum()\n",
    "gols_contra_ano['total_gols_contra'] = gols_contra_ano['gols_1_contra'] + gols_contra_ano['gols_2_contra']\n",
    "sns.barplot(x=gols_contra_ano.index, y='total_gols_contra', data=gols_contra_ano, ax=axs[1,1], color='purple')\n",
    "axs[1,1].set_title('Total de Gols Contra por Ano')\n",
    "axs[1,1].set_xlabel('Ano')\n",
    "axs[1,1].set_ylabel('Gols Contra')\n",
    "axs[1,1].tick_params(axis='x', rotation=45)\n",
    "\n",
    "# -----------------------------\n",
    "plt.tight_layout()\n",
    "plt.show()\n"
   ]
  }
 ],
 "metadata": {
  "language_info": {
   "name": "python"
  }
 },
 "nbformat": 4,
 "nbformat_minor": 2
}
