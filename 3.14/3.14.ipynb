{
 "cells": [
  {
   "cell_type": "markdown",
   "metadata": {},
   "source": [
    "> Projeto Desenvolve <br>\n",
    "Programação Intermediária com Python <br>\n",
    "Profa. Camila Laranjeira (mila@projetodesenvolve.com.br) <br>\n",
    "\n",
    "# 3.14 - ORM"
   ]
  },
  {
   "cell_type": "markdown",
   "metadata": {},
   "source": [
    "## Exercícios\n",
    "\n",
    "#### Q1. Conhecendo os dados\n",
    "Baixe o seguinte csv onde iremos trabalhar. Ele contém informações sobre salários de profissionais de dados de uma empresa hipotética entre 2009 e 2016\n",
    "* https://github.com/camilalaranjeira/python-intermediario/blob/main/salaries.csv\n",
    "\n",
    "Suas colunas, descritas na [página do Kaggle que contém o dataset](https://www.kaggle.com/datasets/krishujeniya/salary-prediction-of-data-professions?resource=download), são:\n",
    "* FIRST NAME: Primeiro nome do profissional de dados (String)\n",
    "* LAST NAME: Sobrenome do profissional de dados (String)\n",
    "* SEX: Gênero do profissional de dados (String: 'F' para Feminino, 'M' para Masculino)\n",
    "* DOJ (Date of Joining): A data em que o profissional de dados ingressou na empresa (Data no formato MM/DD/AAAA)\n",
    "* CURRENT DATE: A data atual ou a data de referência dos dados (Data no formato MM/DD/AAAA)\n",
    "* DESIGNATION: O cargo ou designação do profissional de dados (String: ex., Analista, Analista Sênior, Gerente)\n",
    "* AGE: Idade do profissional de dados (Integer)\n",
    "* SALARY: Salário anual do profissional de dados (Float)\n",
    "* UNIT: Unidade de negócios ou departamento em que o profissional de dados trabalha (String: ex., TI, Finanças, Marketing)\n",
    "* LEAVES USED: Número de licenças utilizadas pelo profissional de dados (Integer)\n",
    "* LEAVES REMAINING: Número de licenças restantes para o profissional de dados (Integer)\n",
    "* RATINGS: Avaliações de desempenho do profissional de dados (Float)\n",
    "* PAST EXP: Experiência de trabalho anterior em anos antes de ingressar na empresa atual (Float)\n",
    "\n",
    "Na célula a seguir, **carregue os dados do CSV e dê uma olhada neles antes de seguir**."
   ]
  },
  {
   "cell_type": "code",
   "execution_count": null,
   "metadata": {
    "vscode": {
     "languageId": "plaintext"
    }
   },
   "outputs": [],
   "source": [
    "import pandas as pd\n",
    "\n",
    "# URL do CSV\n",
    "url = \"https://github.com/camilalaranjeira/python-intermediario/raw/main/salaries.csv\"\n",
    "\n",
    "# Carregar dados\n",
    "df = pd.read_csv(url)\n",
    "\n",
    "# Dar uma olhada nos dados\n",
    "print(df.head())\n",
    "print(df.info())\n",
    "print(df.describe())\n"
   ]
  },
  {
   "cell_type": "markdown",
   "metadata": {},
   "source": [
    "#### Q2. Modelando os dados\n",
    "Você deve **criar um ORM com SQLAlchemy capaz de comportar os dados dessa base**.\n",
    "\n",
    "* Crie um campo de chave primária `ID`, que deve ser incrementado automaticamente\n",
    "* Os campos SEX, DESIGNATION e UNIT devem ser definidos como classes `Enum` com os possíveis valores (consulte os valores únicos dessas colunas)\n",
    "* Para os outros campos, consulte os tipos de dados informados na descrição acima"
   ]
  },
  {
   "cell_type": "code",
   "execution_count": null,
   "metadata": {
    "vscode": {
     "languageId": "plaintext"
    }
   },
   "outputs": [],
   "source": [
    "from sqlalchemy import Column, Integer, Float, String, Date, Enum, create_engine\n",
    "from sqlalchemy.ext.declarative import declarative_base\n",
    "import enum\n",
    "\n",
    "Base = declarative_base()\n",
    "\n",
    "# Valores únicos (você pode usar df['SEX'].unique(), df['DESIGNATION'].unique(), df['UNIT'].unique())\n",
    "class SexEnum(enum.Enum):\n",
    "    M = \"M\"\n",
    "    F = \"F\"\n",
    "\n",
    "class DesignationEnum(enum.Enum):\n",
    "    ANALISTA = \"Analista\"\n",
    "    ANALISTA_SENIOR = \"Analista Sênior\"\n",
    "    GERENTE = \"Gerente\"\n",
    "\n",
    "class UnitEnum(enum.Enum):\n",
    "    TI = \"TI\"\n",
    "    FINANCAS = \"Finanças\"\n",
    "    MARKETING = \"Marketing\"\n",
    "\n",
    "class Salary(Base):\n",
    "    __tablename__ = \"salaries\"\n",
    "    \n",
    "    id = Column(Integer, primary_key=True, autoincrement=True)\n",
    "    first_name = Column(String)\n",
    "    last_name = Column(String)\n",
    "    sex = Column(Enum(SexEnum))\n",
    "    doj = Column(Date)\n",
    "    current_date = Column(Date)\n",
    "    designation = Column(Enum(DesignationEnum))\n",
    "    age = Column(Integer)\n",
    "    salary = Column(Float)\n",
    "    unit = Column(Enum(UnitEnum))\n",
    "    leaves_used = Column(Integer)\n",
    "    leaves_remaining = Column(Integer)\n",
    "    ratings = Column(Float)\n",
    "    past_exp = Column(Float)\n"
   ]
  },
  {
   "cell_type": "markdown",
   "metadata": {
    "vscode": {
     "languageId": "plaintext"
    }
   },
   "source": [
    "#### Q3. Estabelecendo uma conexão\n",
    "\n",
    "Usando o método `create_engine` do SQLAlchemy, crie uma conexão com um novo banco de dados SQLite chamado `salarios`."
   ]
  },
  {
   "cell_type": "code",
   "execution_count": null,
   "metadata": {
    "vscode": {
     "languageId": "plaintext"
    }
   },
   "outputs": [],
   "source": [
    "# Criar engine SQLite\n",
    "engine = create_engine(\"sqlite:///salarios.db\", echo=True)\n"
   ]
  },
  {
   "cell_type": "markdown",
   "metadata": {},
   "source": [
    "#### Q4. Criando as tabelas\n",
    "Crie as tabelas da questão Q2 no banco `salarios`."
   ]
  },
  {
   "cell_type": "code",
   "execution_count": null,
   "metadata": {
    "vscode": {
     "languageId": "plaintext"
    }
   },
   "outputs": [],
   "source": [
    "Base.metadata.create_all(engine)\n"
   ]
  },
  {
   "cell_type": "markdown",
   "metadata": {},
   "source": [
    "#### Q5. Populando\n",
    "\n",
    "Usando o método `to_sql` da biblioteca Pandas (veja [a documentação](https://pandas.pydata.org/docs/reference/api/pandas.DataFrame.to_sql.html)), popule o banco `salarios` com os dados do csv que você carregou na questão Q1.\n",
    "* Lembre-se de definir o parâmetro `if_exists='append'` para que as tabelas não sejam dropadas e recriadas."
   ]
  },
  {
   "cell_type": "code",
   "execution_count": null,
   "metadata": {
    "vscode": {
     "languageId": "plaintext"
    }
   },
   "outputs": [],
   "source": [
    "# Ajustar datas para datetime\n",
    "df['DOJ'] = pd.to_datetime(df['DOJ'])\n",
    "df['CURRENT DATE'] = pd.to_datetime(df['CURRENT DATE'])\n",
    "\n",
    "# Salvar no banco\n",
    "df.to_sql('salaries', con=engine, if_exists='append', index=False)\n"
   ]
  },
  {
   "cell_type": "markdown",
   "metadata": {},
   "source": [
    "#### Q6. Consultas SQL vs ORM\n",
    "\n",
    "Agrupe os dados por DESIGNATION e selecione o mínimo, máximo e a média dos salários (SALARY) divididos por 12. Já que o atributo SALARY é anual, dividir por 12 nos mostrará os valores mensais.\n",
    "\n",
    "Assumindo que a variável que armazena a sua conexão se chama `engine`, você deve realizar a query acima de três formas:\n",
    "* Executando a query SQL através de uma instância de conexão retornada pelo método `engine.connect()`\n",
    "* Executando a query SQL com o método `read_sql_query` do Pandas (veja [a documentação](https://pandas.pydata.org/docs/reference/api/pandas.read_sql_query.html)). Você usará mesma instância `engine.connect()` como um dos parâmetros.\n",
    "* Executando uma query criada com o módulo `select` do SQLAlchemy. Sua execução deve ser feita através de um objeto `Session` do módulo `orm` do SQLAlchemy (`Session(engine)`).\n"
   ]
  },
  {
   "cell_type": "code",
   "execution_count": null,
   "metadata": {
    "vscode": {
     "languageId": "plaintext"
    }
   },
   "outputs": [],
   "source": [
    "### Execute aqui sua query SQL com SQLAlchemy\n",
    "\n",
    "with engine.connect() as conn:\n",
    "    result = conn.execute(\"\"\"\n",
    "        SELECT DESIGNATION, \n",
    "               MIN(SALARY)/12 AS min_salary_month,\n",
    "               MAX(SALARY)/12 AS max_salary_month,\n",
    "               AVG(SALARY)/12 AS avg_salary_month\n",
    "        FROM salaries\n",
    "        GROUP BY DESIGNATION\n",
    "    \"\"\")\n",
    "    for row in result:\n",
    "        print(row)\n"
   ]
  },
  {
   "cell_type": "code",
   "execution_count": null,
   "metadata": {
    "vscode": {
     "languageId": "plaintext"
    }
   },
   "outputs": [],
   "source": [
    "### Execute aqui sua query SQL com SQLAlchemy + Pandas\n",
    "\n",
    "query = \"\"\"\n",
    "    SELECT DESIGNATION, \n",
    "           MIN(SALARY)/12 AS min_salary_month,\n",
    "           MAX(SALARY)/12 AS max_salary_month,\n",
    "           AVG(SALARY)/12 AS avg_salary_month\n",
    "    FROM salaries\n",
    "    GROUP BY DESIGNATION\n",
    "\"\"\"\n",
    "df_result = pd.read_sql_query(query, engine)\n",
    "print(df_result)\n"
   ]
  },
  {
   "cell_type": "code",
   "execution_count": null,
   "metadata": {
    "vscode": {
     "languageId": "plaintext"
    }
   },
   "outputs": [],
   "source": [
    "### Execute aqui sua query com SQLAlchemy ORM\n",
    "\n",
    "from sqlalchemy.orm import Session\n",
    "from sqlalchemy import select, func\n",
    "\n",
    "session = Session(engine)\n",
    "\n",
    "stmt = select(\n",
    "    Salary.designation,\n",
    "    (func.min(Salary.salary)/12).label('min_salary_month'),\n",
    "    (func.max(Salary.salary)/12).label('max_salary_month'),\n",
    "    (func.avg(Salary.salary)/12).label('avg_salary_month')\n",
    ").group_by(Salary.designation)\n",
    "\n",
    "for row in session.execute(stmt):\n",
    "    print(row)\n"
   ]
  }
 ],
 "metadata": {
  "language_info": {
   "name": "python"
  }
 },
 "nbformat": 4,
 "nbformat_minor": 2
}
